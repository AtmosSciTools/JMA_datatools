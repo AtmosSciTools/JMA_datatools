from jma_data_tools import JMAGroundDataDownloader
import pandas as pd

# Initialize the downloader
downloader = JMAGroundDataDownloader(output_path='ground_data')

# Test Parameters
station_id = '47654'  # Example station ID (e.g., Tsukuba station)
test_date = pd.Timestamp('2010-01-01')  # Example date
    
daily_data, url = downloader.download_amedas(station_id, test_date, dtype='daily')
 



